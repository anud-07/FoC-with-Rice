{
 "cells": [
  {
   "cell_type": "code",
   "execution_count": 3,
   "metadata": {},
   "outputs": [
    {
     "name": "stdout",
     "output_type": "stream",
     "text": [
      "Hello World!\n",
      "Hello World!\n",
      "None\n"
     ]
    }
   ],
   "source": [
    "# We start to look at functions in the last lecture, We'll look into some more here:\n",
    "\n",
    "def hello():\n",
    "    \"\"\"A simple function that prints\"\"\"   # Good practice to include theses in your code;\n",
    "    print('Hello World!')\n",
    "    \n",
    "hello()\n",
    "\n",
    "# Trying somthing wierd\n",
    "dummy = hello()\n",
    "print(dummy)\n",
    "\n",
    "# The above function has no outputs and inputs. \n",
    "# So what do you think would happen when you try to assign it some value and print it?\n",
    "#.\n",
    "#.\n",
    "#.\n",
    "# Python by defaults returns a 'None' value, despite of you not returning anything!\n",
    "\n",
    "# And yes, 'Don't forget the colon, indentation, and the return statement'!"
   ]
  },
  {
   "cell_type": "code",
   "execution_count": 4,
   "metadata": {},
   "outputs": [
    {
     "name": "stdout",
     "output_type": "stream",
     "text": [
      "49\n"
     ]
    }
   ],
   "source": [
    "# Some modular arithmetic expressions\n",
    "\n",
    "number = 49\n",
    "tens = number//10  # Comptes Quotient\n",
    "ones = number%10   # Computes Remainder\n",
    "print(10*tens + ones)"
   ]
  },
  {
   "cell_type": "code",
   "execution_count": 5,
   "metadata": {},
   "outputs": [
    {
     "name": "stdout",
     "output_type": "stream",
     "text": [
      "It's 4 hours\n"
     ]
    }
   ],
   "source": [
    "# Applications in computing the clock time settings! For example: \n",
    "\n",
    "# Let's take a 24-hour clock for example:\n",
    "hour = 20\n",
    "shift = 8\n",
    "print(\"It's \" + str((hour + shift)%24) + \" hours\") "
   ]
  },
  {
   "cell_type": "code",
   "execution_count": 6,
   "metadata": {},
   "outputs": [
    {
     "name": "stdout",
     "output_type": "stream",
     "text": [
      "5\n",
      "797\n"
     ]
    }
   ],
   "source": [
    "# In games which have fixed screeen width:\n",
    "\n",
    "width = 800\n",
    "position = 2\n",
    "move1 = 3\n",
    "print((position+move1)%width)\n",
    "\n",
    "# This is important; The convention in python is to take positive remainders always(Expand in terms fo remainde and quotient!);\n",
    "move2 = -5\n",
    "print((position+move2)%width) # following the convention that the remainder is always postive!!"
   ]
  },
  {
   "cell_type": "code",
   "execution_count": 8,
   "metadata": {},
   "outputs": [
    {
     "name": "stdout",
     "output_type": "stream",
     "text": [
      "Today numbers are 37\n",
      "The Powerball number is 18.\n"
     ]
    }
   ],
   "source": [
    "# Fun game! Powerball is lottery game\n",
    "\n",
    "import random\n",
    "\n",
    "def powerball():\n",
    "    \"\"\"Prints Powerball lottery numbers.\"\"\"\n",
    "    \n",
    "    print(\"Today numbers are \" + str(random.randrange(1, 60)))\n",
    "    print(\"The Powerball number is \" + str(random.randrange(1, 36)) + \".\")\n",
    "\n",
    "powerball()"
   ]
  },
  {
   "cell_type": "code",
   "execution_count": 10,
   "metadata": {
    "scrolled": true
   },
   "outputs": [
    {
     "name": "stdout",
     "output_type": "stream",
     "text": [
      "True \n",
      " False \n",
      " False \n",
      " True \n",
      " False \n",
      " True\n"
     ]
    }
   ],
   "source": [
    "# Let's talk about some boolean algebra and logic!\n",
    "\n",
    "a = True\n",
    "b = False\n",
    "print(a, \"\\n\", b, \"\\n\", not a, \"\\n\", not b, \"\\n\", a and b, \"\\n\", a or b)"
   ]
  },
  {
   "cell_type": "code",
   "execution_count": 11,
   "metadata": {},
   "outputs": [
    {
     "name": "stdout",
     "output_type": "stream",
     "text": [
      "True\n",
      "False\n",
      "True\n",
      "False\n",
      "False\n",
      "True\n"
     ]
    }
   ],
   "source": [
    "# Motivation for Boolean logic: Most of the times the True and False values are generated from the comparison operators;\n",
    "# this motivates Comparison Operators;\n",
    "\n",
    "dummy  = 7 > 3 \n",
    "print(dummy)\n",
    "\n",
    "dummy  = 7 < 3 \n",
    "print(dummy)\n",
    "\n",
    "dummy  = 7 >= 3 \n",
    "print(dummy)\n",
    "\n",
    "dummy  = 7 <= 3 \n",
    "print(dummy)\n",
    "\n",
    "dummy  = 7 == 3 \n",
    "print(dummy)\n",
    "\n",
    "dummy  = 7 != 3 \n",
    "print(dummy)"
   ]
  },
  {
   "cell_type": "code",
   "execution_count": 12,
   "metadata": {},
   "outputs": [
    {
     "name": "stdout",
     "output_type": "stream",
     "text": [
      "False\n"
     ]
    }
   ],
   "source": [
    "# In Python, you can compare strings as well!\n",
    "\n",
    "c = \"Hello\"\n",
    "print(c == 'kon')"
   ]
  },
  {
   "cell_type": "code",
   "execution_count": 14,
   "metadata": {},
   "outputs": [
    {
     "ename": "IndentationError",
     "evalue": "unindent does not match any outer indentation level (<tokenize>, line 4)",
     "output_type": "error",
     "traceback": [
      "\u001b[0;36m  File \u001b[0;32m\"<tokenize>\"\u001b[0;36m, line \u001b[0;32m4\u001b[0m\n\u001b[0;31m    if friend and (money > 20):\u001b[0m\n\u001b[0m    ^\u001b[0m\n\u001b[0;31mIndentationError\u001b[0m\u001b[0;31m:\u001b[0m unindent does not match any outer indentation level\n"
     ]
    }
   ],
   "source": [
    "def greet(friend, money):\n",
    "     \"\"\"Simple money lending game with friends and strangers\"\"\"\n",
    "        \n",
    "    if friend and (money > 20):\n",
    "        print(\"Hi!\")\n",
    "        money = money - 20\n",
    "        \n",
    "    elif friend:\n",
    "        print(\"Hello\")\n",
    "        \n",
    "    else:\n",
    "        print(\"Ha ha\")\n",
    "        money = money + 10\n",
    "        \n",
    "    return money\n",
    "\n",
    "money = 15\n",
    "\n",
    "money = greet(True, money)\n",
    "print(\"Money:\", money)\n",
    "print(\"\")\n",
    "\n",
    "money = greet(False, money)\n",
    "print(\"Money:\", money)\n",
    "print(\"\")\n",
    "\n",
    "money = greet(True, money)\n",
    "print(\"Money:\", money)\n",
    "print(\"\")"
   ]
  },
  {
   "cell_type": "code",
   "execution_count": 16,
   "metadata": {},
   "outputs": [
    {
     "name": "stdout",
     "output_type": "stream",
     "text": [
      "2013 Not leap year\n",
      "2020 Is leap year\n"
     ]
    }
   ],
   "source": [
    "# Checking a leap year function; \n",
    "# (Understand the logic of the algorithm, essentially it is fitting the number of days using standard 365 days a year)\n",
    "\n",
    "def leap_year(year):\n",
    "    if ((year%4 == 0) and (year%100 !=0) or (year%400 ==0)):\n",
    "        return True\n",
    "    else:\n",
    "        return False\n",
    "    \n",
    "# Alternate logic via if-else conditions;   \n",
    "def leap_year_mod(year):\n",
    "    if year%400 == 0:\n",
    "        return True\n",
    "    elif year%100 ==0:\n",
    "        return False\n",
    "    elif year%4 == 0:\n",
    "        return True\n",
    "    else:\n",
    "        return False\n",
    "    \n",
    "check = 2013\n",
    "if leap_year(check):\n",
    "    print(str(check) + \" Is leap year\")\n",
    "else:\n",
    "    print(str(check) + \" Not leap year\")\n",
    "    \n",
    "check = 2020    \n",
    "if leap_year_mod(check):\n",
    "    print(str(check) + \" Is leap year\")\n",
    "else:\n",
    "    print(str(check) + \" Not leap year\")"
   ]
  },
  {
   "cell_type": "code",
   "execution_count": 23,
   "metadata": {},
   "outputs": [
    {
     "name": "stdout",
     "output_type": "stream",
     "text": [
      "11 AM is lunchtime.\n",
      "12 AM is not lunchtime.\n",
      "11 PM is not lunchtime.\n",
      "12 PM is lunchtime.\n",
      "10 PM is not lunchtime.\n"
     ]
    }
   ],
   "source": [
    "# A trivial example to illustrate How to write a function with details and debuggin capabilites!\n",
    "# Compute whether the given time is lunchtime.\n",
    "# Good way to test functions and write functions in order to find cases where your code fails\n",
    "\n",
    "def is_lunchtime(hour, is_am):    \n",
    "    return (hour == 11 and is_am == True) or (hour == 12 and is_am == False) \n",
    "\n",
    "def test(hour, is_am):\n",
    "    \"\"\"Tests the is_lunchtime function.\"\"\"\n",
    "    if is_am:\n",
    "        print(hour, end=' ')\n",
    "        print(\"AM\", end=' ')  \n",
    "    else:\n",
    "        print(hour, end=' ')\n",
    "        print(\"PM\", end=' ')         \n",
    "        \n",
    "    if is_lunchtime(hour, is_am):\n",
    "        print(\"is lunchtime.\")\n",
    "    else:\n",
    "        print(\"is not lunchtime.\")\n",
    "\n",
    "test(11, True)\n",
    "test(12, True)\n",
    "test(11, False)\n",
    "test(12, False)\n",
    "test(10, False)"
   ]
  },
  {
   "cell_type": "code",
   "execution_count": 24,
   "metadata": {},
   "outputs": [
    {
     "name": "stdout",
     "output_type": "stream",
     "text": [
      "Help on built-in function print in module builtins:\n",
      "\n",
      "print(...)\n",
      "    print(value, ..., sep=' ', end='\\n', file=sys.stdout, flush=False)\n",
      "    \n",
      "    Prints the values to a stream, or to sys.stdout by default.\n",
      "    Optional keyword arguments:\n",
      "    file:  a file-like object (stream); defaults to the current sys.stdout.\n",
      "    sep:   string inserted between values, default a space.\n",
      "    end:   string appended after the last value, default a newline.\n",
      "    flush: whether to forcibly flush the stream.\n",
      "\n"
     ]
    }
   ],
   "source": [
    "help(print)\n",
    "\n",
    "# better to know the print new line via the help function to customize according to your preferences!"
   ]
  },
  {
   "cell_type": "code",
   "execution_count": null,
   "metadata": {},
   "outputs": [],
   "source": []
  }
 ],
 "metadata": {
  "kernelspec": {
   "display_name": "Python 3",
   "language": "python",
   "name": "python3"
  },
  "language_info": {
   "codemirror_mode": {
    "name": "ipython",
    "version": 3
   },
   "file_extension": ".py",
   "mimetype": "text/x-python",
   "name": "python",
   "nbconvert_exporter": "python",
   "pygments_lexer": "ipython3",
   "version": "3.8.5"
  }
 },
 "nbformat": 4,
 "nbformat_minor": 4
}
