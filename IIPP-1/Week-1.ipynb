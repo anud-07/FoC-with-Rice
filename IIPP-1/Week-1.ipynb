{
 "cells": [
  {
   "cell_type": "code",
   "execution_count": 1,
   "metadata": {},
   "outputs": [
    {
     "name": "stdout",
     "output_type": "stream",
     "text": [
      "3 -1 3.14 -2 8\n"
     ]
    }
   ],
   "source": [
    "# Welcome to Python-3! This mini-course is a conversion from Python-2 to Python-3. Hence, there might be mistakes.\n",
    "\n",
    "# Printing in python \n",
    "print(3, -1, 3.14, -2,8)"
   ]
  },
  {
   "cell_type": "code",
   "execution_count": 2,
   "metadata": {
    "scrolled": true
   },
   "outputs": [
    {
     "name": "stdout",
     "output_type": "stream",
     "text": [
      "<class 'int'> <class 'int'> <class 'float'> <class 'int'> <class 'int'>\n"
     ]
    }
   ],
   "source": [
    "# Using some built in functions to find the type of variable; \n",
    "\n",
    "print(type(3), type(-1), type(3.14), type(-2), type(8))"
   ]
  },
  {
   "cell_type": "code",
   "execution_count": 3,
   "metadata": {},
   "outputs": [
    {
     "name": "stdout",
     "output_type": "stream",
     "text": [
      "3 -2\n"
     ]
    }
   ],
   "source": [
    "# Convert to int \n",
    "\n",
    "print(int(3.1415), int(-2.8))"
   ]
  },
  {
   "cell_type": "code",
   "execution_count": 4,
   "metadata": {},
   "outputs": [
    {
     "name": "stdout",
     "output_type": "stream",
     "text": [
      "3.0 -5.0\n"
     ]
    }
   ],
   "source": [
    "# Convert to float \n",
    "\n",
    "print(float(3), float(-5))"
   ]
  },
  {
   "cell_type": "code",
   "execution_count": 5,
   "metadata": {},
   "outputs": [
    {
     "name": "stdout",
     "output_type": "stream",
     "text": [
      "3 -1 30 32\n"
     ]
    }
   ],
   "source": [
    "# Writing some arithmetic expressions\n",
    "\n",
    "print(1+2, 3-4, 5*6, 2**5)"
   ]
  },
  {
   "cell_type": "code",
   "execution_count": 8,
   "metadata": {},
   "outputs": [
    {
     "name": "stdout",
     "output_type": "stream",
     "text": [
      "0.3333333333333333 0.3333333333333333 0.3333333333333333 -2.3333333333333335\n"
     ]
    }
   ],
   "source": [
    "# using operators\n",
    "\n",
    "print(1/3, 1.0/3, 1/3.0, -7/3.0)"
   ]
  },
  {
   "cell_type": "code",
   "execution_count": 11,
   "metadata": {},
   "outputs": [
    {
     "name": "stdout",
     "output_type": "stream",
     "text": [
      "7 3.3333333333333335 146\n"
     ]
    }
   ],
   "source": [
    "# (A Mneonic for operator preferences) Please excuse my dear aunt sallie = (), **, *, /, +, -\n",
    "\n",
    "print(1+2*3, 4.0*5.0/6.0, 7*8 + 9*10)"
   ]
  },
  {
   "cell_type": "code",
   "execution_count": 14,
   "metadata": {
    "scrolled": true
   },
   "outputs": [
    {
     "name": "stdout",
     "output_type": "stream",
     "text": [
      "68640\n"
     ]
    }
   ],
   "source": [
    "# Some simple problem statements;\n",
    "# There are 5280 feet in a mile. Write a Python statement that calculates and prints the number of feet in 13 miles. \n",
    "\n",
    "def mile_to_feet(x):\n",
    "    return x*5280\n",
    "print(mile_to_feet(13))"
   ]
  },
  {
   "cell_type": "code",
   "execution_count": 19,
   "metadata": {},
   "outputs": [
    {
     "name": "stdout",
     "output_type": "stream",
     "text": [
      "Hi, my name is Anmol\n"
     ]
    }
   ],
   "source": [
    "print(\"Hi, \" + \"my name is\" + \" Anmol.\")"
   ]
  },
  {
   "cell_type": "code",
   "execution_count": 1,
   "metadata": {},
   "outputs": [
    {
     "name": "stdout",
     "output_type": "stream",
     "text": [
      "23.88888888888889\n"
     ]
    }
   ],
   "source": [
    "# It's always good to follows some conventions. Here are some of them which you might consider.\n",
    "\n",
    "# valid variable names - consists of letters, numbers, underscore (_)\n",
    "# starts with (Letter or Underscore) and YES, Capitalization matters!!\n",
    "# legal names - ninja, Ninja, n_i_n_j_a\n",
    "# illegal names - 1337, 1337ninja\n",
    "# Python convention - multiple words joined by '_' legal names - elite_ninja, leet_ninja, ninja_1337\n",
    "# illegal name 1337_ninja\n",
    "\n",
    "def F_to_C(temp_Fahrenheit):\n",
    "    temp_Celsius = 5.0 / 9.0 * (temp_Fahrenheit - 32)\n",
    "    print(temp_Celsius)\n",
    "    \n",
    "F_to_C(75)"
   ]
  }
 ],
 "metadata": {
  "kernelspec": {
   "display_name": "Python 3",
   "language": "python",
   "name": "python3"
  },
  "language_info": {
   "codemirror_mode": {
    "name": "ipython",
    "version": 3
   },
   "file_extension": ".py",
   "mimetype": "text/x-python",
   "name": "python",
   "nbconvert_exporter": "python",
   "pygments_lexer": "ipython3",
   "version": "3.8.5"
  }
 },
 "nbformat": 4,
 "nbformat_minor": 4
}
