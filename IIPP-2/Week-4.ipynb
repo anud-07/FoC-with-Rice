{
 "cells": [
  {
   "cell_type": "markdown",
   "metadata": {},
   "source": [
    "# Lecture-1 (Sets) \n",
    "concept lecture!\n",
    "\n",
    "* List - Ordered sequence \n",
    "* Dictionary - Key:value pairs\n",
    "\n",
    "* Sets - Unordered collection of data with no duplicates"
   ]
  },
  {
   "cell_type": "code",
   "execution_count": null,
   "metadata": {},
   "outputs": [],
   "source": [
    "# Examples of Sets \n",
    "\n",
    "instructors = set(['Rixner', 'Warren', 'Greiner', 'Wong'])\n",
    "print instructors\n",
    "\n",
    "inst2 = set(['Rixner', 'Rixner', 'Warren', 'Warren', 'Greiner', 'Wong'])\n",
    "print inst2\n",
    "\n",
    "# compare with equality if thery are equal\n",
    "print instructors == inst2\n",
    "\n",
    "# you can iterate overs sets\n",
    "for inst in instructors:\n",
    "    print inst\n",
    "\n",
    "instructors.add('Colbert')\n",
    "print instructors\n",
    "instructors.add('Rixner')\n",
    "print instructors\n",
    "\n",
    "instructors.remove('Wong')\n",
    "print instructors\n",
    "#instructors.remove('Wong')\n",
    "#print instructors\n",
    "\n",
    "print 'Rixner' in instructors\n",
    "print 'Wong' in instructors"
   ]
  }
 ],
 "metadata": {
  "kernelspec": {
   "display_name": "Python 3",
   "language": "python",
   "name": "python3"
  },
  "language_info": {
   "codemirror_mode": {
    "name": "ipython",
    "version": 3
   },
   "file_extension": ".py",
   "mimetype": "text/x-python",
   "name": "python",
   "nbconvert_exporter": "python",
   "pygments_lexer": "ipython3",
   "version": "3.8.5"
  }
 },
 "nbformat": 4,
 "nbformat_minor": 4
}
