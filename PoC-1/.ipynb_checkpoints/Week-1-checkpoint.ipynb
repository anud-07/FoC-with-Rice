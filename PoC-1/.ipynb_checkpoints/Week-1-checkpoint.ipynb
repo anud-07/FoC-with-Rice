{
 "cells": [
  {
   "cell_type": "raw",
   "metadata": {},
   "source": [
    "* Guidelines for Coding Style\n",
    "    * Some coding conventions to be followed by Pylint\n",
    "    \n",
    "    \n",
    "* Documentation Strings (\"docstrings\")\n",
    "\n",
    "    * At the top of each file describing the purpose of the module.\n",
    "    * Below each class definition describing the purpose of the class.\n",
    "    * Below each function definition describing the purpose of the function.\n",
    "    \n",
    "A sample of the convention to be followed is below:"
   ]
  },
  {
   "cell_type": "code",
   "execution_count": null,
   "metadata": {},
   "outputs": [],
   "source": [
    "\"\"\"\n",
    "This is a docstring for the module:\n",
    "\n",
    "This module demonstrates the use of docstrings.\n",
    "\"\"\"\n",
    "\n",
    "def repeat_string(string, num):\n",
    "    \"\"\"\n",
    "    This is a docstring for a function:\n",
    "\n",
    "    Return a new string that repeats the input\n",
    "    string num times.\n",
    "    \"\"\"\n",
    "    newstring = \"\"\n",
    "    for dummy_loop_counter in range(num):\n",
    "        newstring += string\n",
    "    return newstring\n",
    "\n",
    "class SimpleCounter:\n",
    "    \"\"\"\n",
    "    This is a docstring for a class:\n",
    "    \n",
    "    Simple counter class that can only increment.\n",
    "    \"\"\"\n",
    "    def __init__(self, initial_val = 0):\n",
    "        self._val = initial_val\n",
    "        \n",
    "    def increment(self):\n",
    "        \"\"\"\n",
    "        This is a docstring for a method:\n",
    "        \n",
    "        Increment counter.\n",
    "        \"\"\"\n",
    "        self._val += 1\n",
    "        \n",
    "    def get_value(self):\n",
    "        \"\"\"\n",
    "        This is a docstring for another method:\n",
    "        \n",
    "        Return current value of the counter.\n",
    "        \"\"\"\n",
    "        return self._val"
   ]
  },
  {
   "cell_type": "markdown",
   "metadata": {},
   "source": [
    "* A few observations are as follows:\n",
    "\n",
    "    * Note that the __init__ methods of classes generally do not have docstrings because their purpose is obvious: to initialize the object. You may want to have one, though, to describe the arguments.\n",
    "    \n",
    "* Comments   \n",
    "\n",
    "    * Comments should describe how a section of code is accomplishing something and not comment obvious code. Instead, you should document complex code and/or design decisions. Comments and docstrings are not interchangeable. Comments start with the \"#\" character. While you will see some Python programmers do this, you should not comment your code by putting a multi-line string in the middle of your program. That is not actually a comment, rather it is just a string in the middle of your program!\n",
    "    \n",
    "* Global variables\n",
    "\n",
    "    * Global variables should never be used in this class. Avoiding their use is good programming practice in any language. While programmers will sometimes break this rule, you should not break this rule in this class.\n",
    "\n",
    "    * There is one exception to this rule: you may have GLOBAL CONSTANTS. Because the Python language does not actually support constants, by convention, Python programmers use global variables with names that are in all capital letters for constants. When you see a variable with a name in all capital letters, you should always assume that it is a constant and you should never change it. Again, such global constants are the only global variables that will be allowed in this class."
   ]
  },
  {
   "cell_type": "code",
   "execution_count": null,
   "metadata": {},
   "outputs": [],
   "source": []
  }
 ],
 "metadata": {
  "kernelspec": {
   "display_name": "Python 3",
   "language": "python",
   "name": "python3"
  },
  "language_info": {
   "codemirror_mode": {
    "name": "ipython",
    "version": 3
   },
   "file_extension": ".py",
   "mimetype": "text/x-python",
   "name": "python",
   "nbconvert_exporter": "python",
   "pygments_lexer": "ipython3",
   "version": "3.8.5"
  }
 },
 "nbformat": 4,
 "nbformat_minor": 4
}
