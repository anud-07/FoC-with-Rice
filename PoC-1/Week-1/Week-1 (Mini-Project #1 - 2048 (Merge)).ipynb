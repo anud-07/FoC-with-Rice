{
 "cells": [
  {
   "cell_type": "code",
   "execution_count": null,
   "metadata": {},
   "outputs": [],
   "source": [
    "https://py2.codeskulptor.org/#user48_GmPYvzvmv1_2.py"
   ]
  },
  {
   "cell_type": "code",
   "execution_count": null,
   "metadata": {},
   "outputs": [],
   "source": [
    "\"\"\"\n",
    "Merge function for 2048 game.\n",
    "\"\"\"\n",
    "\n",
    "def merge(line):\n",
    "    \"\"\"\n",
    "    Function that merges a single row or column in 2048.\n",
    "    \n",
    "    input: list\n",
    "    return: new list with merged output\n",
    "    \"\"\"\n",
    "    # replace with your code\n",
    "    def reduced(line):\n",
    "        \"\"\"\n",
    "        Function that makes the row more simpler for further processing\n",
    "        \n",
    "        input: list\n",
    "        return: new list with merged output       \n",
    "        \"\"\"\n",
    "        reduc, dummy_index_reduced = [0]*len(line), 0\n",
    "        for dummy_index_line in range(len(line)):\n",
    "            if line[dummy_index_line] != 0:\n",
    "                reduc[dummy_index_reduced] = line[dummy_index_line]  \n",
    "                dummy_index_reduced += 1\n",
    "\n",
    "        return reduc\n",
    "    \n",
    "    reduc, dummy_index_reduced = reduced(line), 0\n",
    "    \n",
    "    while dummy_index_reduced < len(line)-1:\n",
    "        if reduc[dummy_index_reduced] == reduc[dummy_index_reduced+1]:\n",
    "            reduc[dummy_index_reduced] = 2*reduc[dummy_index_reduced]\n",
    "            reduc[dummy_index_reduced+1] = 0\n",
    "            dummy_index_reduced += 2\n",
    "        else:    \n",
    "            dummy_index_reduced += 1\n",
    "    \n",
    "    return reduced(reduc)\n",
    "    \n",
    "#print merge([8, 16, 16, 8])\n",
    "\n"
   ]
  }
 ],
 "metadata": {
  "kernelspec": {
   "display_name": "Python 3",
   "language": "python",
   "name": "python3"
  },
  "language_info": {
   "codemirror_mode": {
    "name": "ipython",
    "version": 3
   },
   "file_extension": ".py",
   "mimetype": "text/x-python",
   "name": "python",
   "nbconvert_exporter": "python",
   "pygments_lexer": "ipython3",
   "version": "3.8.5"
  }
 },
 "nbformat": 4,
 "nbformat_minor": 4
}
