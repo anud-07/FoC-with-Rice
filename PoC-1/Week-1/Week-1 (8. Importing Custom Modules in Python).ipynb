{
 "cells": [
  {
   "cell_type": "markdown",
   "metadata": {},
   "source": [
    "Common types of imports in this class \n",
    "\n",
    "    * First, to provide auxiliary code/classes that you will use in implementing your mini-projects.\n",
    "    \n",
    "    * Second, to import test suite code into your mini-project for testing. These imports will typically consist of two statements: one that imports the module containing your test suite and a second that runs your test suite.\n",
    "    \n",
    "    * Third, to import a GUI that can be used to visualize your program in action. Again, these imports will typically consist of two statements; one that imports the module containing the GUI and a second that runs the GUI using an instance of the class defined in your mini-project. For example, you can import and run the GUI for Solitaire Mancala using the statements\n",
    "\n"
   ]
  }
 ],
 "metadata": {
  "kernelspec": {
   "display_name": "Python 3",
   "language": "python",
   "name": "python3"
  },
  "language_info": {
   "codemirror_mode": {
    "name": "ipython",
    "version": 3
   },
   "file_extension": ".py",
   "mimetype": "text/x-python",
   "name": "python",
   "nbconvert_exporter": "python",
   "pygments_lexer": "ipython3",
   "version": "3.8.5"
  }
 },
 "nbformat": 4,
 "nbformat_minor": 4
}
