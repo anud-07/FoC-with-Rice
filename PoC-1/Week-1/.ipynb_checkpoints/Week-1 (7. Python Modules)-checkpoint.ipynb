{
 "cells": [
  {
   "cell_type": "code",
   "execution_count": null,
   "metadata": {},
   "outputs": [],
   "source": [
    "# Import the math module (look in the Docs for help)\n",
    "import math\n",
    "\n",
    "# Import example module (change the name of the module)\n",
    "import examples_module as example\n",
    "\n",
    "# Constants\n",
    "print \"===Math constants===\"\n",
    "\n",
    "print math.pi\n",
    "print math.e\n",
    "\n",
    "# Functions\n",
    "print\n",
    "print \"===Math functions===\"\n",
    "\n",
    "print math.sqrt(25)\n",
    "print math.trunc(14.83483)\n",
    "print math.sin(math.pi / 2.0)\n",
    "\n",
    "\"\"\" \n",
    "Dir (gives the directory of the math module)\n",
    "\n",
    "returns list of the attributes and methods of any object\n",
    "\"\"\"\n",
    "print\n",
    "print \"===Dir===\"\n",
    "\n",
    "print dir(math)\n",
    "print dir(example)\n",
    "\n",
    "print example.message\n",
    "\n",
    "# a way to find out the real names of the modules inc ae you have modified it for ease!\n",
    "print math.__name__\n",
    "print example.__name__"
   ]
  },
  {
   "cell_type": "code",
   "execution_count": null,
   "metadata": {},
   "outputs": [],
   "source": [
    "# We can also import from other fields that you have made in codeskcuptor;\n",
    "\n",
    "\n"
   ]
  }
 ],
 "metadata": {
  "kernelspec": {
   "display_name": "Python 3",
   "language": "python",
   "name": "python3"
  },
  "language_info": {
   "codemirror_mode": {
    "name": "ipython",
    "version": 3
   },
   "file_extension": ".py",
   "mimetype": "text/x-python",
   "name": "python",
   "nbconvert_exporter": "python",
   "pygments_lexer": "ipython3",
   "version": "3.8.5"
  }
 },
 "nbformat": 4,
 "nbformat_minor": 4
}
