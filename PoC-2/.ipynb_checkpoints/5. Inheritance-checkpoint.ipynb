{
 "cells": [
  {
   "cell_type": "code",
   "execution_count": null,
   "metadata": {},
   "outputs": [],
   "source": [
    "# Simple inheritance\n",
    "\n",
    "class Base:\n",
    "    def hello(self):\n",
    "        print \"hello\"\n",
    "        \n",
    "    def message(self, msg):\n",
    "        print msg\n",
    "        \n",
    "class Sub(Base):\n",
    "    def message(self, msg):\n",
    "        print \"sub:\", msg\n",
    "        \n",
    "obj = Sub()\n",
    "obj.hello()\n",
    "obj.message(\"what's going to happen?\")\n",
    "\n",
    "baseobj = Base()\n",
    "baseobj.hello()\n",
    "baseobj.message(\"another message\")"
   ]
  },
  {
   "cell_type": "code",
   "execution_count": null,
   "metadata": {},
   "outputs": [],
   "source": [
    "\"\"\"\n",
    "Simple example of using inheritance.\n",
    "\"\"\"\n",
    "\n",
    "class Base:\n",
    "    \"\"\"\n",
    "    Simple base class.\n",
    "    \"\"\"    \n",
    "    def __init__(self, num):\n",
    "        self._number = num\n",
    "\n",
    "    def __str__(self):\n",
    "        \"\"\"\n",
    "        Return human readable string.\n",
    "        \"\"\"\n",
    "        return str(self._number)\n",
    "        \n",
    "class Sub(Base):\n",
    "    \"\"\"\n",
    "    Simple sub class.\n",
    "    \"\"\"\n",
    "    def __init__(self, num):\n",
    "        pass\n",
    "    \n",
    "obj = Sub(42)\n",
    "print obj"
   ]
  }
 ],
 "metadata": {
  "kernelspec": {
   "display_name": "Python 3",
   "language": "python",
   "name": "python3"
  },
  "language_info": {
   "codemirror_mode": {
    "name": "ipython",
    "version": 3
   },
   "file_extension": ".py",
   "mimetype": "text/x-python",
   "name": "python",
   "nbconvert_exporter": "python",
   "pygments_lexer": "ipython3",
   "version": "3.8.5"
  }
 },
 "nbformat": 4,
 "nbformat_minor": 4
}
