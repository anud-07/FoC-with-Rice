{
 "cells": [
  {
   "cell_type": "code",
   "execution_count": null,
   "metadata": {},
   "outputs": [],
   "source": [
    "\"\"\"\n",
    "Generator examples.\n",
    "\"\"\"\n",
    "\n",
    "# A list comprehension\n",
    "print \"max in list:\", max([num * 2 - 3 for num in range(7)])\n",
    "\n",
    "# A generator expression\n",
    "print \"max in gen:\", max(num * 2 - 3 for num in range(7))\n",
    "\n",
    "# A generator function\n",
    "def genfunc(limit):\n",
    "    num = 0\n",
    "    while num < limit:\n",
    "        yield num\n",
    "        num = num + 1\n",
    "\n",
    "print genfunc(7)\n",
    "        \n",
    "# Iteration using a generator function\n",
    "print \"Iterate over generator:\"\n",
    "for number in genfunc(7):\n",
    "    print number\n",
    "    \n",
    "# Pass to functions expecting a sequence\n",
    "print \"max in gen func:\", max(genfunc(4))\n",
    "\n",
    "# Use return to end generator\n",
    "def genfunc2(endfunc):\n",
    "    num = 0\n",
    "    while True:\n",
    "        if endfunc(num):\n",
    "            return\n",
    "        yield num\n",
    "        num = num + 1\n",
    "        \n",
    "def endfn(num):\n",
    "    if num == 7:\n",
    "        return True\n",
    "    return False\n",
    "\n",
    "print \"Iterate over second generator:\"\n",
    "for number in genfunc2(endfn):\n",
    "    print number"
   ]
  }
 ],
 "metadata": {
  "kernelspec": {
   "display_name": "Python 3",
   "language": "python",
   "name": "python3"
  },
  "language_info": {
   "codemirror_mode": {
    "name": "ipython",
    "version": 3
   },
   "file_extension": ".py",
   "mimetype": "text/x-python",
   "name": "python",
   "nbconvert_exporter": "python",
   "pygments_lexer": "ipython3",
   "version": "3.8.5"
  }
 },
 "nbformat": 4,
 "nbformat_minor": 4
}
