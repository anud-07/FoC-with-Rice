{
 "cells": [
  {
   "cell_type": "code",
   "execution_count": null,
   "metadata": {},
   "outputs": [],
   "source": [
    "\"\"\"\n",
    "Sorting a list of strings using an alphabetical grid\n",
    "\"\"\"\n",
    "\n",
    "import random\n",
    "\n",
    "# constants\n",
    "NUM_CHARS = 26\n",
    "CHARACTERS = [chr(ord(\"a\") + char_num) for char_num in range(NUM_CHARS)] \n",
    "\n",
    "def order_by_letter(string_list, letter_pos):\n",
    "    \"\"\"\n",
    "    Takes a list of strings and order them alphabetically \n",
    "    using the letter at the specified position\n",
    "    \"\"\"\n",
    "    buckets = [[] for dummy_idx in range(NUM_CHARS)]\n",
    "    for string in string_list:\n",
    "        char_index = ord(string[letter_pos]) - ord(\"a\")\n",
    "        buckets[char_index] += [string]\n",
    "    \n",
    "    answer = []\n",
    "    for char_index in range(NUM_CHARS):\n",
    "        answer += buckets[char_index]\n",
    "    return answer\n",
    "\n",
    "def string_sort(string_list, length):\n",
    "    \"\"\"\n",
    "    Order a list of strings of the specific length in ascending alphabetical order\n",
    "    \"\"\"\n",
    "    for position in range(length-1 , -1, -1):\n",
    "        string_list = order_by_letter(string_list, position)\n",
    "    return string_list\n",
    "\n",
    "def run_example():\n",
    "    \"\"\"\n",
    "    Example of string sort\n",
    "    \"\"\"\n",
    "    string_length = 3\n",
    "    test_list = [\"\".join([random.choice(CHARACTERS) for _ in range(string_length)]) \n",
    "                 for dummy_index in range (2)]\n",
    "    print \"Unsorted string list is\", test_list\n",
    "    print \"Sorted string list is\", string_sort(test_list, string_length)\n",
    "     \n",
    "run_example()"
   ]
  }
 ],
 "metadata": {
  "kernelspec": {
   "display_name": "Python 3",
   "language": "python",
   "name": "python3"
  },
  "language_info": {
   "codemirror_mode": {
    "name": "ipython",
    "version": 3
   },
   "file_extension": ".py",
   "mimetype": "text/x-python",
   "name": "python",
   "nbconvert_exporter": "python",
   "pygments_lexer": "ipython3",
   "version": "3.8.5"
  }
 },
 "nbformat": 4,
 "nbformat_minor": 4
}
