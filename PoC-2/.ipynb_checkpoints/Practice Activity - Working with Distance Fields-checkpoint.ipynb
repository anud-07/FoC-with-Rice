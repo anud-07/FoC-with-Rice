{
 "cells": [
  {
   "cell_type": "code",
   "execution_count": null,
   "metadata": {},
   "outputs": [],
   "source": [
    "\"\"\"\n",
    "An example of creating a distance field using Manhattan distance\n",
    "\"\"\"\n",
    "\n",
    "GRID_HEIGHT = 6\n",
    "GRID_WIDTH = 8\n",
    "\n",
    "def manhattan_distance(row0, col0, row1, col1):\n",
    "    \"\"\"\n",
    "    Compute the Manhattan distance between the cells\n",
    "    (row0, col0) and (row1, col1)\n",
    "    \"\"\"\n",
    "    return abs(row0-row1) + abs(col0-col1)\n",
    "        \n",
    "def create_distance_field(entity_list):\n",
    "        \"\"\"\n",
    "        Create a Manhattan distance field that contains the minimum distance to \n",
    "        each entity (zombies or humans) in entity_list\n",
    "        Each entity is represented as a grid position of the form (row, col) \n",
    "        \"\"\"\n",
    "        grid = [[0 for col in range(GRID_WIDTH)] for row in range(GRID_HEIGHT)]\n",
    "        \n",
    "        for row in range(GRID_HEIGHT):\n",
    "            for col in range(GRID_WIDTH): \n",
    "                grid[row][col] = min(manhattan_distance(row, col, entity_list[0][0], entity_list[0][1]), \\\n",
    "                                     manhattan_distance(row, col, entity_list[1][0], entity_list[1][1]))\n",
    "        \n",
    "        return grid\n",
    "        \n",
    "def print_field(field):\n",
    "    \"\"\"\n",
    "    Print a distance field in a human readable manner with \n",
    "    one row per line\n",
    "    \"\"\"\n",
    "    for row in field:\n",
    "        print(row)\n",
    "\n",
    "def run_example():\n",
    "    \"\"\"\n",
    "    Create and print a small distance field\n",
    "    \"\"\"\n",
    "    field = create_distance_field([[4, 0],[2, 5]])\n",
    "    print_field(field)\n",
    "    \n",
    "run_example()\n",
    "\n",
    "# Sample output for the default example\n",
    "#[4, 5, 5, 4, 3, 2, 3, 4]\n",
    "#[3, 4, 4, 3, 2, 1, 2, 3]\n",
    "#[2, 3, 3, 2, 1, 0, 1, 2]\n",
    "#[1, 2, 3, 3, 2, 1, 2, 3]\n",
    "#[0, 1, 2, 3, 3, 2, 3, 4]\n",
    "#[1, 2, 3, 4, 4, 3, 4, 5]"
   ]
  }
 ],
 "metadata": {
  "kernelspec": {
   "display_name": "Python 3",
   "language": "python",
   "name": "python3"
  },
  "language_info": {
   "codemirror_mode": {
    "name": "ipython",
    "version": 3
   },
   "file_extension": ".py",
   "mimetype": "text/x-python",
   "name": "python",
   "nbconvert_exporter": "python",
   "pygments_lexer": "ipython3",
   "version": "3.8.5"
  }
 },
 "nbformat": 4,
 "nbformat_minor": 4
}
