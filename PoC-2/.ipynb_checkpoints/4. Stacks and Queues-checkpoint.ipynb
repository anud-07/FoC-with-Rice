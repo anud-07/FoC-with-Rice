{
 "cells": [
  {
   "cell_type": "code",
   "execution_count": null,
   "metadata": {},
   "outputs": [],
   "source": [
    "\"\"\"\n",
    "Queue class\n",
    "\"\"\"\n",
    "\n",
    "class Queue:\n",
    "    \"\"\"\n",
    "    A simple implementation of a FIFO queue.\n",
    "    \"\"\"\n",
    "\n",
    "    def __init__(self):\n",
    "        \"\"\" \n",
    "        Initialize the queue.\n",
    "        \"\"\"\n",
    "        self._items = []\n",
    "\n",
    "    def __len__(self):\n",
    "        \"\"\"\n",
    "        Return the number of items in the queue.\n",
    "        \"\"\"\n",
    "        return len(self._items)\n",
    "    \n",
    "    def __iter__(self):\n",
    "        \"\"\"\n",
    "        Create an iterator for the queue.\n",
    "        \"\"\"\n",
    "        for item in self._items:\n",
    "            yield item\n",
    "\n",
    "    def __str__(self):\n",
    "        \"\"\"\n",
    "        Return a string representation of the queue.\n",
    "        \"\"\"\n",
    "        return str(self._items)\n",
    "\n",
    "    def enqueue(self, item):\n",
    "        \"\"\"\n",
    "        Add item to the queue.\n",
    "        \"\"\"        \n",
    "        self._items.append(item)\n",
    "\n",
    "    def dequeue(self):\n",
    "        \"\"\"\n",
    "        Remove and return the least recently inserted item.\n",
    "        \"\"\"\n",
    "        return self._items.pop(0)\n",
    "\n",
    "    def clear(self):\n",
    "        \"\"\"\n",
    "        Remove all items from the queue.\n",
    "        \"\"\"\n",
    "        self._items = []"
   ]
  }
 ],
 "metadata": {
  "kernelspec": {
   "display_name": "Python 3",
   "language": "python",
   "name": "python3"
  },
  "language_info": {
   "codemirror_mode": {
    "name": "ipython",
    "version": 3
   },
   "file_extension": ".py",
   "mimetype": "text/x-python",
   "name": "python",
   "nbconvert_exporter": "python",
   "pygments_lexer": "ipython3",
   "version": "3.8.5"
  }
 },
 "nbformat": 4,
 "nbformat_minor": 4
}
