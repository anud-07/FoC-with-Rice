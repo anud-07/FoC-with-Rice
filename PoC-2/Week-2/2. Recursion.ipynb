{
 "cells": [
  {
   "cell_type": "code",
   "execution_count": null,
   "metadata": {},
   "outputs": [],
   "source": [
    "# Recursion\n",
    "\n",
    "def sum_up_to(n):\n",
    "    if n == 1:\n",
    "        # base case\n",
    "        return 1\n",
    "    else:\n",
    "        # recursive case\n",
    "        return n + sum_up_to(n - 1)\n",
    "\n",
    "print sum_up_to(1)\n",
    "print sum_up_to(2)\n",
    "print sum_up_to(10)\n",
    "print sum_up_to(55)\n",
    "\n",
    "print sum(range(56))\n",
    "\n",
    "def is_palindrome(word):\n",
    "    if len(word) < 2:\n",
    "        # base case\n",
    "        return True\n",
    "    else:\n",
    "        # recursive case\n",
    "        if word[0] != word[-1]:\n",
    "            return False\n",
    "        else:\n",
    "            return is_palindrome(word[1:-1])\n",
    "\n",
    "print is_palindrome(\"a\")\n",
    "print is_palindrome(\"aa\")\n",
    "print is_palindrome(\"is\")\n",
    "print is_palindrome(\"madamimadam\")\n",
    "print is_palindrome(\"abcdefdcba\")"
   ]
  }
 ],
 "metadata": {
  "kernelspec": {
   "display_name": "Python 3",
   "language": "python",
   "name": "python3"
  },
  "language_info": {
   "codemirror_mode": {
    "name": "ipython",
    "version": 3
   },
   "file_extension": ".py",
   "mimetype": "text/x-python",
   "name": "python",
   "nbconvert_exporter": "python",
   "pygments_lexer": "ipython3",
   "version": "3.8.5"
  }
 },
 "nbformat": 4,
 "nbformat_minor": 4
}
