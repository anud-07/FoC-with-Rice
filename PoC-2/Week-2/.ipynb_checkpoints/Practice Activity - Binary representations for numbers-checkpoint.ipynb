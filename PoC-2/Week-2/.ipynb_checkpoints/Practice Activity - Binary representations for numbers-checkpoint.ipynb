{
 "cells": [
  {
   "cell_type": "code",
   "execution_count": null,
   "metadata": {},
   "outputs": [],
   "source": [
    "My solution:\n",
    "def make_binary(length):\n",
    "    \n",
    "    if length==0:\n",
    "        return ['']\n",
    "    else:\n",
    "        binary = make_binary(length-1)\n",
    "        answer = [] \n",
    "        for bit in binary:\n",
    "            answer.append('0' + bit)\n",
    "        for bit in binary:\n",
    "            answer.append('1' + bit)        \n",
    "        return answer\n",
    "    \n",
    "print make_binary(2)    "
   ]
  },
  {
   "cell_type": "code",
   "execution_count": null,
   "metadata": {},
   "outputs": [],
   "source": [
    "My solution:\n",
    "def bin_to_dec(bin_num):\n",
    "    \n",
    "    if len(bin_num) ==0:\n",
    "        return 0\n",
    "    \n",
    "    else:\n",
    "        LSB = bin_num[-1]\n",
    "        remaining = bin_num[:-1]\n",
    "        return 2*bin_to_dec(remaining) + int(LSB)\n",
    "    \n",
    "print bin_to_dec('1')"
   ]
  },
  {
   "cell_type": "code",
   "execution_count": null,
   "metadata": {},
   "outputs": [],
   "source": [
    "My solution:\n",
    "def make_gray(length):\n",
    "    \n",
    "    if length == 0:\n",
    "        return [\"\"]\n",
    "    \n",
    "    else:\n",
    "        reduced = make_gray(length-1)\n",
    "        \n",
    "        answer= []\n",
    "        for bit in reduced:\n",
    "            answer.append('0'+bit)    \n",
    "        for bit in reversed(reduced):\n",
    "            answer.append('1'+bit)        \n",
    "        return answer\n",
    "    \n",
    "print make_gray(2)        "
   ]
  },
  {
   "cell_type": "code",
   "execution_count": null,
   "metadata": {},
   "outputs": [],
   "source": []
  }
 ],
 "metadata": {
  "kernelspec": {
   "display_name": "Python 3",
   "language": "python",
   "name": "python3"
  },
  "language_info": {
   "codemirror_mode": {
    "name": "ipython",
    "version": 3
   },
   "file_extension": ".py",
   "mimetype": "text/x-python",
   "name": "python",
   "nbconvert_exporter": "python",
   "pygments_lexer": "ipython3",
   "version": "3.8.5"
  }
 },
 "nbformat": 4,
 "nbformat_minor": 4
}
