{
 "cells": [
  {
   "cell_type": "code",
   "execution_count": null,
   "metadata": {},
   "outputs": [],
   "source": [
    "\"\"\"\n",
    "Visualizing the execution of several \n",
    "simple recursive functions\n",
    "\"\"\"\n",
    "\n",
    "def collatz(num, count):\n",
    "    \"\"\"\n",
    "    Given n, repeatedly perform n = f(n) where\n",
    "    f(n) = n / 2 if n is even\n",
    "    f(n) = 3 * n + 1 is n is odd\n",
    "    Return number of iterations of this redution\n",
    "    \"\"\"\n",
    "    if num == 1:\n",
    "        return count\n",
    "    elif (num % 2) == 0:\n",
    "        return collatz(num / 2, count + 1)\n",
    "    else:\n",
    "        return collatz(3 * num + 1, count + 1)\n",
    "    \n",
    "print collatz(5, 0)\n",
    "\n",
    "\n",
    "def quicksort(num_list):\n",
    "    \"\"\"\n",
    "    Recursive O(n log(n)) sorting algorithm\n",
    "    Takes a list of numbers\n",
    "    Returns sorted list of same numbers\n",
    "    \"\"\"\n",
    "    if num_list == []:\n",
    "        return num_list\n",
    "    else:\n",
    "        pivot = num_list[0]\n",
    "        lesser = [num for num in num_list if num < pivot]\n",
    "        pivots = [num for num in num_list if num == pivot]\n",
    "        greater = [num for num in num_list if num > pivot]\n",
    "        return quicksort(lesser) + pivots + quicksort(greater)\n",
    "    \n",
    "\n",
    "#print quicksort([4, 5, 3, 1])"
   ]
  }
 ],
 "metadata": {
  "kernelspec": {
   "display_name": "Python 3",
   "language": "python",
   "name": "python3"
  },
  "language_info": {
   "codemirror_mode": {
    "name": "ipython",
    "version": 3
   },
   "file_extension": ".py",
   "mimetype": "text/x-python",
   "name": "python",
   "nbconvert_exporter": "python",
   "pygments_lexer": "ipython3",
   "version": "3.8.5"
  }
 },
 "nbformat": 4,
 "nbformat_minor": 4
}
