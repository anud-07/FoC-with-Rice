{
 "cells": [
  {
   "cell_type": "code",
   "execution_count": null,
   "metadata": {},
   "outputs": [],
   "source": [
    "# Anonymous functions - Lambda\n",
    "\n",
    "def double(val):\n",
    "    return 2 * val\n",
    "\n",
    "def square(val):\n",
    "    return val ** 2\n",
    "\n",
    "data = [1, 3, 6, 9, 18]\n",
    "\n",
    "newdata2 = map(square, data)\n",
    "print newdata2\n",
    "\n",
    "data3 = map(lambda x: x ** 2, data)\n",
    "print data3\n",
    "\n",
    "def even(val):\n",
    "    if val % 2:\n",
    "        return False\n",
    "    else:\n",
    "        return True\n",
    "    \n",
    "newdata3 = filter(even, data)\n",
    "print newdata3\n",
    "\n",
    "data4 = filter(lambda val: val % 2 == 0, data)\n",
    "print data4"
   ]
  }
 ],
 "metadata": {
  "kernelspec": {
   "display_name": "Python 3",
   "language": "python",
   "name": "python3"
  },
  "language_info": {
   "codemirror_mode": {
    "name": "ipython",
    "version": 3
   },
   "file_extension": ".py",
   "mimetype": "text/x-python",
   "name": "python",
   "nbconvert_exporter": "python",
   "pygments_lexer": "ipython3",
   "version": "3.8.5"
  }
 },
 "nbformat": 4,
 "nbformat_minor": 4
}
